{
 "cells": [
  {
   "cell_type": "markdown",
   "metadata": {},
   "source": [
    "\n",
    "Copyright (C) 2019 Sergio G Rodrigo <sergut@unizar.es> & Luis Martin-Moreno <lmm@unizar.es>\n",
    "\n",
    "**Important:** \n",
    "*IrisME* is licensed under the AGPL and it is free to use. if you are using, or plan to use this example, specially if it is for research or academic purposes, please send an email with your name, institution and a brief description of your interest for this program.  If you use this example of *IrisME* in a work that leads to a scientific or academic publication, we would appreciate it if you would kindly cite Refs. [1,2]  in your manuscript.\n",
    "\n",
    "\n",
    "***\n",
    "- - -\n",
    "\n",
    "+ **Example 1: Localized Extraordinary Optical Transmission**\n",
    "\n",
    "This example shows you how to obtain transmission and reflection of terahertz waves through a given hole array (perforating a Perfect Electric Conductor metal screen). The period chosen is $p_x=p_y=400 \\mu$m, and the rectangles are defined by $a_x = 10 \\mu$m and  $a_y = 350 \\mu$m sides.  The PEC screen is $h = 25 \\mu$m and the holes are filled with a dielectric, $\\epsilon_{II} = 4$. The cover and substrate dielectric constants are equal ($\\epsilon_{I}= \\epsilon_{III}= 2$).  Light iluminates the structure at normal incidence, being the electric field polarized along the x-axis.\n",
    "\n",
    "<img src=\"HA_geometry.png\" alt=\"drawing\" width=\"400\"/>\n",
    "\n",
    "**Steps:**\n",
    "1. Run IrisME.nb, included in this version, at the same directory this script in launched. The file input_IrisME.dat contains the geometrical and rest of parameters for IrisME.nb. The output file, T-R_IrisME.dat, has 3 data columns: wavelengths ( $\\mu$m), transmission and reflection. Mathematica has to be installed (from 8.0 version). If not, you will still use IrisMEadv. \n",
    "\n",
    "2. Run next cells. The script calls the IrisMEAdv 64-bits executable for Windows/Linux, included in this release.  input_IrisMEadv.dat contais the geometrical and rest of parameters for IrisMEadv. The output file is T-R_IrisMEadv.dat, which contains 3 data columns: wavelengths ($\\mu$ m), transmission and reflection. The Python script finally plots all the outputs in a figure. Note that you can alternatively run IrsMEAdv programs from console.\n",
    "\n",
    "\n",
    "This example is extracted from Ref. [1]. The transmission calculated can be compared with one of those shown in Figure 7-(top). In that work we investigated the so-called Localized Extraordinary Optical Tranmission (LEOT) phenomenom, for which the spectral position of transmission and reflection resonances appearing in subwavelength apertures drilled in metallic films drastically changes when the dielectric environment is modified, for extremely subwavelength fim widths.  These results are quantitatively correct in the microwave and terahertz regimes, but they also have qualitative validity in the optical regime. Additional details about EOT can be found in Ref. [2], and references therein.\n",
    "    \n",
    "*References:*\n",
    "\n",
    "[1] S. Carretero-Palacios, F. J. García-Vidal, L. Martín-Moreno, and \n",
    "S. G. Rodrigo *Effect of film thickness and dielectric environment on optical transmission through subwavelength holes*,\n",
    "Phys. Rev. B 85, 035417 (2012).\n",
    "\n",
    "[2] S.G. Rodrigo, F. de León-Pérez, and L. Martín-Moreno, *Extraordinary Optical Transmission: fundamentals and applications*, Proceedings of the IEEE 104, 2288 (2016). \n",
    "\n",
    "    \n",
    "***\n",
    "- - -\n"
   ]
  },
  {
   "cell_type": "code",
   "execution_count": 64,
   "metadata": {},
   "outputs": [
    {
     "data": {
      "text/plain": [
       "'./IrisMEadv64_Windows.exe'"
      ]
     },
     "execution_count": 64,
     "metadata": {},
     "output_type": "execute_result"
    }
   ],
   "source": [
    "import shutil\n",
    "shutil.copyfile('../IrisMEadv64_Linux.exe', './IrisMEadv64_Linux.exe') # Copy files from master directory to example directory\n",
    "shutil.copyfile('../IrisMEadv64_Windows.exe', './IrisMEadv64_Windows.exe') # Copy files from master directory to example directory\n",
    "#shutil.copyfile('../IrisME.nb', './IrisME.nb') # Copy files from master directory to example directory\n",
    "\n",
    "\n"
   ]
  },
  {
   "cell_type": "code",
   "execution_count": 65,
   "metadata": {},
   "outputs": [],
   "source": [
    "import subprocess\n",
    "import os\n",
    "\n",
    "# Calls IrisMEadv program \n",
    "from sys import platform\n",
    "if platform == \"linux\" or platform == \"linux2\":\n",
    "   cmdMEadv = \"IrisMEadv64_Linux.exe\" # IrisMEAdv Fortran implementation (64 bits) for Linux\n",
    "   fileMEadv=os.path.exists('./irisMEadv64_Linux.exe')   \n",
    "   if (fileMEadv):\n",
    "    process = subprocess.run(cmdMEadv,capture_output=True)    \n",
    "   else:\n",
    "        print(cmdMEadv,\"doesn't exist!\") \n",
    "elif platform == \"darwin\":\n",
    "   print(\"OS Mac not supported\")\n",
    "elif platform == \"win32\":\n",
    "   cmdMEadv = \"IrisMEadv64_Windows.exe\" # IrisMEAdv Fortran implementation (64 bits) for Windows\n",
    "   fileMEadv=os.path.exists('./irisMEadv64_Windows.exe')    \n",
    "   if (fileMEadv):\n",
    "    process = subprocess.run(cmdMEadv,capture_output=True)\n",
    "   else:\n",
    "        print(cmdMEadv,\"doesn't exist!\") \n",
    "\n",
    "#print(process.stdout)\n",
    "#print(process.stderr)\n"
   ]
  },
  {
   "cell_type": "code",
   "execution_count": 66,
   "metadata": {},
   "outputs": [
    {
     "name": "stdout",
     "output_type": "stream",
     "text": [
      "./T-R_IrisME.dat doesn't exist!\n"
     ]
    },
    {
     "data": {
      "image/png": "[encoded data removed]",
      "text/plain": [
       "<Figure size 432x288 with 1 Axes>"
      ]
     },
     "metadata": {
      "needs_background": "light"
     },
     "output_type": "display_data"
    }
   ],
   "source": [
    "%matplotlib inline\n",
    "\n",
    "import matplotlib as mpl\n",
    "import matplotlib.pyplot as plt\n",
    "from mpl_toolkits.mplot3d.axes3d import Axes3D\n",
    "import numpy as np\n",
    "import sympy\n",
    "\n",
    "i=0\n",
    "wl1,T1,R1,wl2,T2,R2 = [],[],[],[],[],[]\n",
    "\n",
    "\n",
    "fileMEadv=os.path.exists('./T-R_IrisMEadv.dat')\n",
    "fileME=os.path.exists('./T-R_IrisME.dat')\n",
    "\n",
    "if (fileMEadv):   \n",
    "    for line in open('T-R_IrisMEadv.dat', 'r'):\n",
    "        values = [float(s) for s in line.split()]\n",
    "        wl1.append(values[0])\n",
    "        T1.append(values[1])\n",
    "        R1.append(values[2])\n",
    "        #print(i,X[i],Y[i])\n",
    "        #i=i+1\n",
    "else:\n",
    "     print(\"./T-R_IrisMEadv.dat doesn't exist!\")\n",
    "\n",
    "\n",
    "if (fileME):           \n",
    "    for line in open('T-R_IrisME.dat', 'r'):\n",
    "        values = [float(s) for s in line.split()]\n",
    "        wl2.append(values[0])\n",
    "        T2.append(values[1])\n",
    "        R2.append(values[2])\n",
    "else: \n",
    "    print(\"./T-R_IrisME.dat doesn't exist!\")\n",
    "\n",
    "fig, ax = plt.subplots()\n",
    "ax.plot(wl1, T1, color=\"blue\", label=\"Transmission IrisMEAdv\")\n",
    "ax.plot(wl2, T2, color=\"red\",ls=\"--\", label=\"Transmission ME\")\n",
    "ax.plot(wl1, R1, color=\"green\", label=\"Reflection IrisMEAdv\")\n",
    "ax.plot(wl2, R2, color=\"orange\",ls=\"--\", label=\"Reflection IrisME\")\n",
    "#txt = \"$\\lambda$ (nm) \\n Transmission and reflection of light are obtained through a hole array (period = 400 $\\mu$m) with rectangles ($a_x = 10 \\mu$m, $a_y = 350 \\mu$m) drilled in a thin PEC screen of $h = 25 \\mu$m and filled with $\\epsilon_I = 4$. The symmetric configuration is considered and $\\epsilon_{I}= \\epsilon_{III}= 2$\"\n",
    "txt = \"$\\lambda (\\mu m)$\"\n",
    "ax.set_xlabel(txt)\n",
    "ax.set_ylabel(\"Scattering coefficients (minimal model)\")\n",
    "ax.legend()\n",
    "fig.savefig(\"T-R.png\", dpi=200, facecolor=\"#f1f1f1\")\n"
   ]
  },
  {
   "cell_type": "code",
   "execution_count": 67,
   "metadata": {},
   "outputs": [],
   "source": [
    " # Delete files of master directory in example directory\n",
    "os.remove('./IrisMEadv64_Linux.exe') \n",
    "os.remove('./IrisMEadv64_Windows.exe')\n",
    "#os.remove('./IrisME.nb') "
   ]
  },
  {
   "cell_type": "code",
   "execution_count": null,
   "metadata": {},
   "outputs": [],
   "source": []
  },
  {
   "cell_type": "code",
   "execution_count": null,
   "metadata": {},
   "outputs": [],
   "source": []
  }
 ],
 "metadata": {
  "kernelspec": {
   "display_name": "Python 3",
   "language": "python",
   "name": "python3"
  },
  "language_info": {
   "codemirror_mode": {
    "name": "ipython",
    "version": 3
   },
   "file_extension": ".py",
   "mimetype": "text/x-python",
   "name": "python",
   "nbconvert_exporter": "python",
   "pygments_lexer": "ipython3",
   "version": "3.7.4"
  }
 },
 "nbformat": 4,
 "nbformat_minor": 4
}
