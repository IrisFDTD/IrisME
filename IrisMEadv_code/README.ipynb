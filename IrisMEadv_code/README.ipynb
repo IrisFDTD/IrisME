{
 "cells": [
  {
   "cell_type": "markdown",
   "metadata": {},
   "source": [
    "*FAQ*\n",
    "============\n",
    "\n",
    "> While Windows and Linux executable versions of the program are provided (IrisMEadv64_Windows & IrisMEadv64_Linux), you can build it by your own. The code is written in a kind of messy \"mix\" of old and new versions of Fortran language, and this fact must be taken into account when compiling and linking the files.\n",
    "\n",
    "**How can we compiled and linked the code?**\n",
    "- A general rule can not be provided, but here we go with two recipies that work in Windows and Linux\n",
    "1. Windows with Microsoft Visual Studio - set Fortran properties to: /nologo /O2 /module:\"x64\\Release\\\\\" /object:\"x64\\Release\\\\\" /Fd\"x64\\Release\\vc100.pdb\" /libs:dll /threads /c\n",
    "2. Linux with ifort - call  ifort -O3 -o IrisMEAdv64_Linux.exe inttoAsscii.for index2.f redef_field.f interfase23.f index1.f overlap.f drude_general.f modes.f current_z.f matrix.f interfase21.f 2d.f wavevec.f leqt1c.f interfase12.f scatt_coef.f"
   ]
  }
 ],
 "metadata": {
  "kernelspec": {
   "display_name": "Python 3",
   "language": "python",
   "name": "python3"
  },
  "language_info": {
   "codemirror_mode": {
    "name": "ipython",
    "version": 3
   },
   "file_extension": ".py",
   "mimetype": "text/x-python",
   "name": "python",
   "nbconvert_exporter": "python",
   "pygments_lexer": "ipython3",
   "version": "3.7.4"
  }
 },
 "nbformat": 4,
 "nbformat_minor": 4
}
