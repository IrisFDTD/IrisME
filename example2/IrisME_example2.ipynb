{
 "cells": [
  {
   "cell_type": "markdown",
   "metadata": {},
   "source": [
    "Copyright (C) 2019 Sergio G Rodrigo <sergut@unizar.es> & Luis Martin-Moreno <lmm@unizar.es>\n",
    "\n",
    "**Important:** \n",
    "*IrisME* is licensed under the AGPL and it is free to use. if you are using, or plan to use this example, specially if it is for research or academic purposes, please send an email with your name, institution and a brief description of your interest for this program.  If you use this example of *IrisME* in a work that leads to a scientific or academic publication, we would appreciate it if you would kindly cite Refs. [1-4]  in your manuscript (see below).\n",
    "\n",
    "\n",
    "***\n",
    "- - -\n",
    "\n",
    "+ **Example 2: Absoption Induced Transparency**\n",
    "\n",
    "\n",
    "You can calculate with *IrisME*  transmission and reflection spectra through metallic hole arrays in the presence of an absorber. In this example, a hole array perforating a perfect electric conductor metal screen is in contact with Hydrogen Cyanide (HCN). The HCN is \"released\" only inside the holes. The hole array, made of rectangular holes ($a_x=50.0\\,\\mu \\text{m}, a_y=120.9\\,\\mu \\text{m}$), is arranged in a rectangular lattice ($L_x=80\\,\\mu \\text{m}$, $L_y=150\\,\\mu \\text{m}$) and milled in a $1.0 \\, \\text{mm}$ thick metal film. The THz source is aligned so the system is illuminated at normal incidence from the cover side, which is transparent Teflon ($\\varepsilon_{Teflon}=2.06$). The electric field points along the x-direction. \n",
    "\n",
    "HCN is exhaled by motor vehicles, and it is also present in tobacco in low concentrations beind extensively used in industry and manufacturing. Out of its multiple absorption resonances at THz, one is spectrally located at $1239.89$ GHz, a narrow line with a full-width at half-maximum $\\approx 126$ MHz. The contribution to the dielectric constant of HCN from this absorption line can be represented by a Lorentz function, namely, $\\varepsilon_{\\text{HCN}}(\\nu)=\\varepsilon_{r} - \\Delta \\varepsilon \\, \\Omega^2/(\\nu^2-\\Omega^2+\\imath \\nu \\Gamma)$.  In this example $\\varepsilon_{r}=1.0$, $\\Delta \\varepsilon \\approx 3.5 \\times 10^{-6}$, $\\Gamma=96.79$ GHz, and  $\\Omega=1239.89$ GHz for a HCN concentration of $\\approx 2.07 \\times 10^5$ ppm. Note that $\\Gamma$ and $\\Omega$ are given in $meV$ in input_IrisME.dat, neccesary for *IrisME* properly works.\n",
    "\n",
    "![See HA_geometry.png](HA_geometry.png)\n",
    "\n",
    "**Steps:**\n",
    "1. Run IrisME.nb, included in this version, at the same directory this script in launched. The file input_IrisME.dat contains the geometrical and rest of parameters for IrisME.nb. The output file T-R_IrisME.dat has 3 data columns: wavelengths ( $\\mu$m), transmission and reflection. Mathematica has to be installed (from 8.0 version). Run Python script to visualize the results.\n",
    "\n",
    "This example is extracted from Ref. [1]. The calculated transmission spectrum can be compared with blue curve in Fig.2 (a-b). This example shows that the optical response of a metallic grating suddenly changes when an absorbing medium, typically characterized by absorbtion lines (e.g. HCN), is present. Contrary to what might be expected, when a such an absorber is sputtered onto an opaque holey metal film, transmission and reflection bands can be observed at the absorption energies of the absorber. This phenomenon, known as absorption-induced transparency (AIT), is aided by a strong modification of the propagation properties of light inside the holes when filled by the absorber [3], but not less important, by surface modes [4]. Despite having been initially observed in metallic structures in the optical regime [4], new routes for investigation and applications at different spectral regimes can be devised like the one of the example,  which illustrates a method for molecular detection in the GHz regime. \n",
    "    \n",
    "*References:*\n",
    "\n",
    "[1] S.G. Rodrigo, and L. Martín-Moreno, *Absorption-induced transparency metamaterials in the terahertz regime*, Opt.  Lett. 41, 293-296 (2016).\n",
    "\n",
    "[2] S.G. Rodrigo, *Terahertz gas sensor based on absorption-induced transparency*, EPJ Applied Metamaterials 3, 11 (2016).\n",
    "\n",
    "[3] S.G. Rodrigo, F. J. García-Vidal, and L. Martín-Moreno, *Theory of absorption-Induced transparency*, Phys. Rev. B 88, 155126 (2013).\n",
    "\n",
    "[4] X.Zhong, S.G. Rodrigo, L. Zhang, P. Samorì, C. Genet, L. Martín-Moreno, J.A. Hutchison, and T.W. Ebbesen, *Waveguide and Plasmonic Absorption-Induced Transparency*, ACS Nano 10, 4570-4578 (2016).\n",
    "\n",
    "    \n",
    "***\n",
    "- - -\n"
   ]
  },
  {
   "cell_type": "code",
   "execution_count": 7,
   "metadata": {
    "collapsed": true,
    "jupyter": {
     "outputs_hidden": true,
     "source_hidden": true
    }
   },
   "outputs": [
    {
     "data": {
      "image/png": "[encoded data removed]",
      "text/plain": [
       "<Figure size 432x288 with 1 Axes>"
      ]
     },
     "metadata": {
      "needs_background": "light"
     },
     "output_type": "display_data"
    }
   ],
   "source": [
    "%matplotlib inline\n",
    "\n",
    "import os\n",
    "import matplotlib as mpl\n",
    "import matplotlib.pyplot as plt\n",
    "from mpl_toolkits.mplot3d.axes3d import Axes3D\n",
    "import numpy as np\n",
    "import sympy\n",
    "\n",
    "i=0\n",
    "wl2,T2,R2 = [],[],[]\n",
    "\n",
    "fileME=os.path.exists('./T-R_IrisME.dat')\n",
    "\n",
    "if (fileME):           \n",
    "    for line in open('T-R_IrisME.dat', 'r'):\n",
    "        values = [float(s) for s in line.split()]\n",
    "        wl2.append(values[0])\n",
    "        T2.append(values[1])\n",
    "        R2.append(values[2])\n",
    "else: \n",
    "    print(\"./T-R_IrisME.dat doesn't exist!. You have to run first IrisME.nb in this directory.\")\n",
    "\n",
    "fig, ax = plt.subplots()\n",
    "ax.plot(wl2, T2, color=\"red\",ls=\"--\", label=\"Transmission ME\")\n",
    "ax.plot(wl2, R2, color=\"orange\",ls=\"--\", label=\"Reflection IrisME\")\n",
    "txt = \"$\\lambda (\\mu m)$\"\n",
    "ax.set_xlabel(txt)\n",
    "ax.set_ylabel(\"Scattering coefficients (minimal model)\")\n",
    "ax.legend()\n",
    "fig.savefig(\"T-R.png\", dpi=200, facecolor=\"#f1f1f1\")\n"
   ]
  },
  {
   "cell_type": "code",
   "execution_count": null,
   "metadata": {},
   "outputs": [],
   "source": []
  },
  {
   "cell_type": "code",
   "execution_count": null,
   "metadata": {},
   "outputs": [],
   "source": []
  }
 ],
 "metadata": {
  "kernelspec": {
   "display_name": "Python 3",
   "language": "python",
   "name": "python3"
  },
  "language_info": {
   "codemirror_mode": {
    "name": "ipython",
    "version": 3
   },
   "file_extension": ".py",
   "mimetype": "text/x-python",
   "name": "python",
   "nbconvert_exporter": "python",
   "pygments_lexer": "ipython3",
   "version": "3.7.4"
  }
 },
 "nbformat": 4,
 "nbformat_minor": 4
}
